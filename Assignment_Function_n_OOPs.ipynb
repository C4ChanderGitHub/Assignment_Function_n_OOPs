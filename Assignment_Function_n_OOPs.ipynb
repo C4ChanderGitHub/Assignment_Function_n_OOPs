{
 "cells": [
  {
   "cell_type": "markdown",
   "id": "b79e51e5",
   "metadata": {},
   "source": [
    "# 1.\tExplain the importance of Functions."
   ]
  },
  {
   "cell_type": "code",
   "execution_count": 1,
   "id": "961ad7ce",
   "metadata": {},
   "outputs": [
    {
     "data": {
      "text/plain": [
       "'\\nAns\\nImportance of Function is very useful for repeating work, daily task work etc. with accuracy and we can reuse as per \\nrequirement and also with function, it easy to understand the code.\\n'"
      ]
     },
     "execution_count": 1,
     "metadata": {},
     "output_type": "execute_result"
    }
   ],
   "source": [
    "'''\n",
    "Ans\n",
    "Importance of Function is very useful for repeating work, daily task work etc. with accuracy and we can reuse as per \n",
    "requirement and also with function, it easy to understand the code.\n",
    "'''"
   ]
  },
  {
   "cell_type": "markdown",
   "id": "53e7187e",
   "metadata": {},
   "source": [
    "# 2.\tWrite a basic function to greet students."
   ]
  },
  {
   "cell_type": "code",
   "execution_count": 2,
   "id": "ed3571d2",
   "metadata": {},
   "outputs": [],
   "source": [
    "def greet(name):\n",
    "    ''' basic function greet for welcome the student'''\n",
    "    print(f\"hello {name} welcome to the world of coding\")"
   ]
  },
  {
   "cell_type": "code",
   "execution_count": 3,
   "id": "347de922",
   "metadata": {},
   "outputs": [
    {
     "name": "stdout",
     "output_type": "stream",
     "text": [
      "hello Chander Parkash welcome to the world of coding\n"
     ]
    }
   ],
   "source": [
    "greet(\"Chander Parkash\")"
   ]
  },
  {
   "cell_type": "markdown",
   "id": "17fd9bef",
   "metadata": {},
   "source": [
    "# 3.\tWhat is the difference between print and return statements?"
   ]
  },
  {
   "cell_type": "code",
   "execution_count": 4,
   "id": "5dad7536",
   "metadata": {},
   "outputs": [
    {
     "name": "stdout",
     "output_type": "stream",
     "text": [
      "hello chander welcome to the world of coding\n",
      "<class 'NoneType'>\n"
     ]
    }
   ],
   "source": [
    "print(type(greet(\"chander\")))"
   ]
  },
  {
   "cell_type": "code",
   "execution_count": 5,
   "id": "b38fb0f5",
   "metadata": {},
   "outputs": [],
   "source": [
    "def greet_return():\n",
    "    '''output comes in return is not NoneType even comes in actual form of item'''\n",
    "    return \"welcome to the world of coding\""
   ]
  },
  {
   "cell_type": "code",
   "execution_count": 6,
   "id": "0f9e6e53",
   "metadata": {},
   "outputs": [
    {
     "data": {
      "text/plain": [
       "str"
      ]
     },
     "execution_count": 6,
     "metadata": {},
     "output_type": "execute_result"
    }
   ],
   "source": [
    "type(greet_return())"
   ]
  },
  {
   "cell_type": "code",
   "execution_count": 7,
   "id": "39b59b9a",
   "metadata": {},
   "outputs": [
    {
     "data": {
      "text/plain": [
       "'\\nAns\\n\\nas per above mentioned examples (greet and greet_return) you can easly check the output comes in NoneType for print case and\\noriginal output comes when we store the output as return.\\n\\nin case return, output back to the function but in case of print it not back any return value to the function it just show the\\noutput value which already mentioned or written in the code of function\\n'"
      ]
     },
     "execution_count": 7,
     "metadata": {},
     "output_type": "execute_result"
    }
   ],
   "source": [
    "\"\"\"\n",
    "Ans\n",
    "\n",
    "as per above mentioned examples (greet and greet_return) you can easly check the output comes in NoneType for print case and\n",
    "original output comes when we store the output as return.\n",
    "\n",
    "in case return, output back to the function but in case of print it not back any return value to the function it just show the\n",
    "output value which already mentioned or written in the code of function\n",
    "\"\"\""
   ]
  },
  {
   "cell_type": "markdown",
   "id": "da5d880a",
   "metadata": {},
   "source": [
    "# 4. What are *args and **kwargs?"
   ]
  },
  {
   "cell_type": "code",
   "execution_count": 8,
   "id": "a72347ba",
   "metadata": {},
   "outputs": [
    {
     "data": {
      "text/plain": [
       "'\\nAns\\n*args stand for arguments and **kwargs stand for keyword arguments both are use to apply the function on multiply or N number\\nof items but the only difference between *args and **kwargs is *args use for single elements and **kwargs use for Key Value\\nelements.\\n\\nNote args & kwargs are not a python keywords we can use anything in place of args & kwargs.\\n'"
      ]
     },
     "execution_count": 8,
     "metadata": {},
     "output_type": "execute_result"
    }
   ],
   "source": [
    "\"\"\"\n",
    "Ans\n",
    "*args stand for arguments and **kwargs stand for keyword arguments both are use to apply the function on multiply or N number\n",
    "of items but the only difference between *args and **kwargs is *args use for single elements and **kwargs use for Key Value\n",
    "elements.\n",
    "\n",
    "Note args & kwargs are not a python keywords we can use anything in place of args & kwargs.\n",
    "\"\"\""
   ]
  },
  {
   "cell_type": "markdown",
   "id": "82b24fc3",
   "metadata": {},
   "source": [
    "# 5. Explain the iterator function."
   ]
  },
  {
   "cell_type": "code",
   "execution_count": 9,
   "id": "e68c9896",
   "metadata": {},
   "outputs": [
    {
     "data": {
      "text/plain": [
       "'\\nAns\\niterator only works on those items which are iterable if item is not iterable then it not convert into iterator.\\n\\nIn Python, iterators are not functions themselves, but rather special objects that implement the iterator protocol.\\nThis protocol involves two special methods 1st is __iter__() and 2nd is __next__().\\n\\n'"
      ]
     },
     "execution_count": 9,
     "metadata": {},
     "output_type": "execute_result"
    }
   ],
   "source": [
    "\"\"\"\n",
    "Ans\n",
    "iterator only works on those items which are iterable if item is not iterable then it not convert into iterator.\n",
    "\n",
    "In Python, iterators are not functions themselves, but rather special objects that implement the iterator protocol.\n",
    "This protocol involves two special methods 1st is __iter__() and 2nd is __next__().\n",
    "\n",
    "\"\"\""
   ]
  },
  {
   "cell_type": "markdown",
   "id": "608a6a86",
   "metadata": {},
   "source": [
    "# 6. Write a code that generates and squares of numbers from 1 to n using a generator."
   ]
  },
  {
   "cell_type": "code",
   "execution_count": 10,
   "id": "e07ee44a",
   "metadata": {},
   "outputs": [
    {
     "name": "stdout",
     "output_type": "stream",
     "text": [
      "Enter the Number: 15\n",
      "1\n",
      "4\n",
      "9\n",
      "16\n",
      "25\n",
      "36\n",
      "49\n",
      "64\n",
      "81\n",
      "100\n",
      "121\n",
      "144\n",
      "169\n",
      "196\n",
      "225\n"
     ]
    }
   ],
   "source": [
    "def square_series(n):\n",
    "    \"\"\"\n",
    "      squares of numbers from 1 to n.\n",
    "    \"\"\"\n",
    "    for i in range(1, n + 1):\n",
    "        yield i * i\n",
    "\n",
    "n = int(input(\"Enter the Number: \"))\n",
    "for j in square_series(n):\n",
    "    print(j)\n"
   ]
  },
  {
   "cell_type": "markdown",
   "id": "f3118a12",
   "metadata": {},
   "source": [
    "# 7. Write a code that generates palindromic numbers up to a using a generator."
   ]
  },
  {
   "cell_type": "code",
   "execution_count": 11,
   "id": "45b457cb",
   "metadata": {},
   "outputs": [
    {
     "name": "stdout",
     "output_type": "stream",
     "text": [
      "11\n",
      "22\n",
      "33\n",
      "44\n",
      "55\n",
      "66\n",
      "77\n",
      "88\n",
      "99\n",
      "101\n",
      "111\n",
      "121\n",
      "131\n",
      "141\n",
      "151\n",
      "161\n",
      "171\n",
      "181\n",
      "191\n",
      "202\n"
     ]
    }
   ],
   "source": [
    "def palindrome_number(n):\n",
    "    \"\"\"\n",
    "    Generates palindromic numbers up to a given limit.\n",
    "    \"\"\"\n",
    "    num_digits = 1\n",
    "    while True:\n",
    "        for_range = 10**(num_digits - 1)\n",
    "        for digit in range(for_range, 10 * for_range):\n",
    "            # Construct the palindrome string\n",
    "            palindrome_str = str(digit) + str(digit)[::-1] if num_digits % 2 != 0 else str(digit) + str(digit)[:-1]\n",
    "            palindrome = int(palindrome_str)\n",
    "            yield palindrome\n",
    "            if palindrome > n: #put condition to stop while loop\n",
    "                return\n",
    "        num_digits += 1\n",
    "\n",
    "n = 200\n",
    "for palindrome in palindrome_number(n):\n",
    "    print(palindrome)"
   ]
  },
  {
   "cell_type": "markdown",
   "id": "5f5aa278",
   "metadata": {},
   "source": [
    "# 8. Write a code that generates even numbers from 2 to n using a generator."
   ]
  },
  {
   "cell_type": "code",
   "execution_count": 12,
   "id": "af9157c8",
   "metadata": {},
   "outputs": [
    {
     "name": "stdout",
     "output_type": "stream",
     "text": [
      "write a number for Even Number Generate 54\n",
      "\n",
      "2\n",
      "\n",
      "4\n",
      "\n",
      "6\n",
      "\n",
      "8\n",
      "\n",
      "10\n",
      "\n",
      "12\n",
      "\n",
      "14\n",
      "\n",
      "16\n",
      "\n",
      "18\n",
      "\n",
      "20\n",
      "\n",
      "22\n",
      "\n",
      "24\n",
      "\n",
      "26\n",
      "\n",
      "28\n",
      "\n",
      "30\n",
      "\n",
      "32\n",
      "\n",
      "34\n",
      "\n",
      "36\n",
      "\n",
      "38\n",
      "\n",
      "40\n",
      "\n",
      "42\n",
      "\n",
      "44\n",
      "\n",
      "46\n",
      "\n",
      "48\n",
      "\n",
      "50\n",
      "\n",
      "52\n",
      "\n",
      "54\n"
     ]
    }
   ],
   "source": [
    "def even_number(n):\n",
    "    \"\"\"\n",
    "    Even number generator\n",
    "    \"\"\"\n",
    "    for i in range(1,n+1): #create range to find out even numbers\n",
    "        generate_even = i if i%2 == 0 else \"\"\n",
    "        yield generate_even\n",
    "\n",
    "n= int(input(\"write a number for Even Number Generate \"))\n",
    "for even_number in even_number(n):\n",
    "    print(even_number)\n",
    "            "
   ]
  },
  {
   "cell_type": "markdown",
   "id": "bb7ba2d6",
   "metadata": {},
   "source": [
    "# 9. Write a code that generates powers of two up to n using a generator."
   ]
  },
  {
   "cell_type": "code",
   "execution_count": 13,
   "id": "39d16286",
   "metadata": {},
   "outputs": [
    {
     "name": "stdout",
     "output_type": "stream",
     "text": [
      "write a number 15\n",
      "write a number for power up to 4\n",
      "225\n",
      "3375\n",
      "50625\n"
     ]
    }
   ],
   "source": [
    "def generate_power(x,n):\n",
    "    \"\"\"\n",
    "    generate power up to n number\n",
    "    \"\"\"\n",
    "    numerator = x\n",
    "    for i in range(2,n+1): #create range for powers\n",
    "        power_up = x**i\n",
    "        yield power_up\n",
    "\n",
    "x= int(input(\"write a number \"))\n",
    "n= int(input(\"write a number for power up to \"))\n",
    "for power in generate_power(x,n):\n",
    "    print(power)"
   ]
  },
  {
   "cell_type": "markdown",
   "id": "841f4f7f",
   "metadata": {},
   "source": [
    "# 10. Write a code that generates prime numbers up to n using a generator."
   ]
  },
  {
   "cell_type": "code",
   "execution_count": 14,
   "id": "07b7970f",
   "metadata": {},
   "outputs": [
    {
     "name": "stdout",
     "output_type": "stream",
     "text": [
      "Enter the number to find Prime Number 54\n",
      "3\n",
      "5\n",
      "7\n",
      "9\n",
      "11\n",
      "13\n",
      "15\n",
      "17\n",
      "19\n",
      "21\n",
      "23\n",
      "25\n",
      "27\n",
      "29\n",
      "31\n",
      "33\n",
      "35\n",
      "37\n",
      "39\n",
      "41\n",
      "43\n",
      "45\n",
      "47\n",
      "49\n",
      "51\n",
      "53\n",
      "55\n",
      "57\n",
      "59\n",
      "61\n",
      "63\n",
      "65\n",
      "67\n",
      "69\n",
      "71\n",
      "73\n",
      "75\n",
      "77\n",
      "79\n",
      "81\n",
      "83\n",
      "85\n",
      "87\n",
      "89\n",
      "91\n",
      "93\n",
      "95\n",
      "97\n",
      "99\n",
      "101\n",
      "103\n",
      "105\n",
      "107\n",
      "109\n"
     ]
    }
   ],
   "source": [
    "def nextPrime(num):\n",
    "    while True:\n",
    "        num+=1\n",
    "        for i in range(2,num):\n",
    "            if num%i==0:\n",
    "                break\n",
    "            else:\n",
    "                return num\n",
    "def primeProducer(N):\n",
    "    num,count=1,1\n",
    "    while count<=N:\n",
    "        num=nextPrime(num)\n",
    "        yield num\n",
    "        count+=1\n",
    "N = int(input(\"Enter the number to find Prime Number \"))\n",
    "for x in primeProducer(N):\n",
    "    print(x)\n"
   ]
  },
  {
   "cell_type": "markdown",
   "id": "4340f189",
   "metadata": {},
   "source": [
    "# 11. Write a code that uses a lambda function to calculate the sum of two numbers."
   ]
  },
  {
   "cell_type": "code",
   "execution_count": 15,
   "id": "75f4fef9",
   "metadata": {},
   "outputs": [],
   "source": [
    "#Lambda function to calculate the sum of two numbers\n",
    "sum_of_two_number = lambda x,y: x+y"
   ]
  },
  {
   "cell_type": "code",
   "execution_count": 16,
   "id": "b42b8933",
   "metadata": {},
   "outputs": [
    {
     "data": {
      "text/plain": [
       "9"
      ]
     },
     "execution_count": 16,
     "metadata": {},
     "output_type": "execute_result"
    }
   ],
   "source": [
    "sum_of_two_number(5,4)"
   ]
  },
  {
   "cell_type": "markdown",
   "id": "f362fa74",
   "metadata": {},
   "source": [
    "# 12. Write a code that uses a lambda function to calculate the square of a given number."
   ]
  },
  {
   "cell_type": "code",
   "execution_count": 17,
   "id": "8277d452",
   "metadata": {},
   "outputs": [
    {
     "name": "stdout",
     "output_type": "stream",
     "text": [
      "Enter the number to find out square = 12\n",
      "square of 12 = 144\n"
     ]
    }
   ],
   "source": [
    "#square the number by using Lambda Function\n",
    "square_number = lambda x: x**2\n",
    "\n",
    "#take input from user\n",
    "N = int(input(\"Enter the number to find out square = \"))\n",
    "\n",
    "#output with fstrint formating\n",
    "print(f\"square of {N} = {square_number(N)}\")"
   ]
  },
  {
   "cell_type": "markdown",
   "id": "40bb7c39",
   "metadata": {},
   "source": [
    "# 13. Write a code that uses a lambda function to check whether a given number is even or odd."
   ]
  },
  {
   "cell_type": "code",
   "execution_count": 18,
   "id": "af4f4bb4",
   "metadata": {},
   "outputs": [
    {
     "name": "stdout",
     "output_type": "stream",
     "text": [
      "enter the number to find out number is Even or Not = 34\n",
      "\n",
      "your number 34 = Even\n"
     ]
    }
   ],
   "source": [
    "#lambda function to check number is even or odd\n",
    "even_number = lambda x: x%2==0\n",
    "\n",
    "#take number from user\n",
    "num_var = int(input(\"enter the number to find out number is Even or Not = \"))\n",
    "if even_number(num_var):\n",
    "    print(f\"\\nyour number {num_var} = Even\")\n",
    "else:\n",
    "    print(f\"\\nyour number {num_var} is Odd\")"
   ]
  },
  {
   "cell_type": "markdown",
   "id": "cf538257",
   "metadata": {},
   "source": [
    "# 14. Write a code uses a lambda function to concatenate two strings."
   ]
  },
  {
   "cell_type": "code",
   "execution_count": 19,
   "id": "b2945add",
   "metadata": {},
   "outputs": [
    {
     "data": {
      "text/plain": [
       "'Raj Kumar'"
      ]
     },
     "execution_count": 19,
     "metadata": {},
     "output_type": "execute_result"
    }
   ],
   "source": [
    "#Lambda function to concatenate two strings\n",
    "string_concatenate = lambda x,y: x+y\n",
    "string_concatenate(\"Raj \", \"Kumar\")"
   ]
  },
  {
   "cell_type": "markdown",
   "id": "00090b93",
   "metadata": {},
   "source": [
    "# 15. Write a code that uses a lambda function to find the maximum of three given numbers."
   ]
  },
  {
   "cell_type": "code",
   "execution_count": 20,
   "id": "dc63b351",
   "metadata": {},
   "outputs": [
    {
     "name": "stdout",
     "output_type": "stream",
     "text": [
      "Enter the 1st number = 24\n",
      "\n",
      "Enter the 2nd number = 25\n",
      "\n",
      "Enter the 3rd number = 34\n",
      "\n",
      "maximum number from the above is 34\n"
     ]
    }
   ],
   "source": [
    "find_maximum = lambda x,y,z: max(x,y,z)\n",
    "\n",
    "x = int(input(\"Enter the 1st number = \"))\n",
    "y = int(input(\"\\nEnter the 2nd number = \"))\n",
    "z = int(input(\"\\nEnter the 3rd number = \"))\n",
    "\n",
    "print(f\"\\nmaximum number from the above is {find_maximum(x,y,z)}\")"
   ]
  },
  {
   "cell_type": "markdown",
   "id": "21535896",
   "metadata": {},
   "source": [
    "# 16. Write a code that generates the squares of even numbers from a given list."
   ]
  },
  {
   "cell_type": "code",
   "execution_count": 21,
   "id": "55f6f221",
   "metadata": {},
   "outputs": [
    {
     "name": "stdout",
     "output_type": "stream",
     "text": [
      "[64, 16, 36, 3364, 16, 36]\n"
     ]
    }
   ],
   "source": [
    "lst = [5,7,8,4,9,6,58,4,1,23,6]\n",
    "new_lst = []\n",
    "for i in lst:\n",
    "    if i%2==0:\n",
    "        new_lst.append(i**2)\n",
    "    else:\n",
    "        pass\n",
    "print(new_lst)"
   ]
  },
  {
   "cell_type": "code",
   "execution_count": 22,
   "id": "ab95cada",
   "metadata": {},
   "outputs": [
    {
     "name": "stdout",
     "output_type": "stream",
     "text": [
      "[64, 16, 36, 3364, 16, 36]\n"
     ]
    }
   ],
   "source": [
    "def even_squares(numbers):\n",
    "    '''\n",
    "    Generates the squares of even numbers from the list.\n",
    "    '''\n",
    "    return [x**2 for x in numbers if x % 2 == 0]\n",
    "\n",
    "numbers = [5,7,8,4,9,6,58,4,1,23,6]\n",
    "even_squares_list = even_squares(numbers)\n",
    "print(even_squares_list)\n"
   ]
  },
  {
   "cell_type": "markdown",
   "id": "7beb1688",
   "metadata": {},
   "source": [
    "# 17.\tWrite a code that calculates the product of positive numbers from a given list."
   ]
  },
  {
   "cell_type": "code",
   "execution_count": 23,
   "id": "860ed098",
   "metadata": {},
   "outputs": [
    {
     "name": "stdout",
     "output_type": "stream",
     "text": [
      "96\n"
     ]
    }
   ],
   "source": [
    "#create a list with negative and positive integers\n",
    "lst2 = [-5,6,8,-4,-5,2] #here only 6,8,2 are positive number\n",
    "\n",
    "#starting variable\n",
    "start_num = 1\n",
    "for i in lst2:\n",
    "    if i>0: #to find out positive number\n",
    "        start_num *= i #multiply and update after product of positive number\n",
    "    else:\n",
    "        pass\n",
    "print(start_num) #6x8x2 = 96 output"
   ]
  },
  {
   "cell_type": "markdown",
   "id": "158430a3",
   "metadata": {},
   "source": [
    "# 18.\tWrite a code that doubles the values of odd numbers from a given list."
   ]
  },
  {
   "cell_type": "code",
   "execution_count": 24,
   "id": "82bdf192",
   "metadata": {},
   "outputs": [
    {
     "name": "stdout",
     "output_type": "stream",
     "text": [
      "[14, 6, 18, 10]\n"
     ]
    }
   ],
   "source": [
    "#create a list with negative and positive integers\n",
    "lst3 = [2,7,6,3,9,8,4,5] #here odd number are 7,3,9,5\n",
    "new_list = []\n",
    "\n",
    "for i in lst3: \n",
    "    if i%2 !=0: #to find out odd number\n",
    "        new_list.append(i*2) #double the odd number and append in new list\n",
    "    else:\n",
    "        pass\n",
    "print(new_list) #output 7x2 = 14, 3x2 = 6, 9x2 = 18, 5x2 = 10 [14,6,18,10]"
   ]
  },
  {
   "cell_type": "markdown",
   "id": "cc86b38c",
   "metadata": {},
   "source": [
    "# 19.\tWrite a code that calculates the sum of cubes of numbers from a given list."
   ]
  },
  {
   "cell_type": "code",
   "execution_count": 25,
   "id": "efdab5b2",
   "metadata": {},
   "outputs": [
    {
     "name": "stdout",
     "output_type": "stream",
     "text": [
      "[8, 343, 216, 27, 729, 512, 64, 125]\n",
      "\n",
      "8 + 343 + 216 + 27 + 729 + 512 + 64 + 125 = 2024\n",
      "\n",
      "sum of after convert list item into cube is = 2024\n"
     ]
    }
   ],
   "source": [
    "#use of above list i.e. lst3 [2,7,6,3,9,8,4,5]\n",
    "cube_list = []\n",
    "\n",
    "for i in lst3: \n",
    "    cube_list.append(i**3) #double the odd number and append in new list\n",
    "\n",
    "#output 2x7 = 8, 2x7 = 343, 6x3 = 216, 3x3 = 27, 9x3 = 729, 8x3=512, 4x3=64, 5x3=125 [8, 343, 216, 27, 729, 512, 64, 125]\n",
    "print(cube_list)\n",
    "print()\n",
    "for j in cube_list:\n",
    "    if j == 125:\n",
    "        print(f\"{j} =\", sum(cube_list))\n",
    "        \n",
    "    else:\n",
    "        print(f\"{j} + \", end = \"\")\n",
    "print(f\"\\nsum of after convert list item into cube is = {sum(cube_list)}\")"
   ]
  },
  {
   "cell_type": "markdown",
   "id": "cad33f89",
   "metadata": {},
   "source": [
    "# 20.\tWrite a code that filters out prime numbers from a given list."
   ]
  },
  {
   "cell_type": "code",
   "execution_count": 26,
   "id": "83af5f2f",
   "metadata": {},
   "outputs": [],
   "source": [
    "def find_prime(num):\n",
    "    '''\n",
    "    to checks the number is prime or not.\n",
    "    '''\n",
    "    if num <= 1:\n",
    "        return False\n",
    "    for i in range(2, int(num**0.5) + 1):\n",
    "        if num % i == 0:\n",
    "            return False\n",
    "    return True"
   ]
  },
  {
   "cell_type": "code",
   "execution_count": 27,
   "id": "f1ceb1e7",
   "metadata": {},
   "outputs": [
    {
     "name": "stdout",
     "output_type": "stream",
     "text": [
      "[2, 13, 37, 53, 7, 17]\n"
     ]
    }
   ],
   "source": [
    "#given a list\n",
    "numbers = [2,54,8,15,35,13,37,53,7,9,17]\n",
    "\n",
    "prime_numbers = [num for num in numbers if find_prime(num)]\n",
    "\n",
    "# output\n",
    "print(prime_numbers)"
   ]
  },
  {
   "cell_type": "markdown",
   "id": "80b89bf1",
   "metadata": {},
   "source": [
    "# 21.\tWrite a code that uses a lambda function to calculate the sum of two numbers."
   ]
  },
  {
   "cell_type": "code",
   "execution_count": 28,
   "id": "8af7553c",
   "metadata": {},
   "outputs": [
    {
     "data": {
      "text/plain": [
       "156"
      ]
     },
     "execution_count": 28,
     "metadata": {},
     "output_type": "execute_result"
    }
   ],
   "source": [
    "#Lambda function to calculate the sum of two numbers\n",
    "sum_of_two_numbers = lambda x,y: x+y\n",
    "sum_of_two_numbers(87,69)"
   ]
  },
  {
   "cell_type": "markdown",
   "id": "a60a10dd",
   "metadata": {},
   "source": [
    "# 22.\tWrite a code that uses a lambda function to calculate the square of a given number."
   ]
  },
  {
   "cell_type": "code",
   "execution_count": 29,
   "id": "9f57ca78",
   "metadata": {},
   "outputs": [
    {
     "name": "stdout",
     "output_type": "stream",
     "text": [
      "Enter the number to find out square = 54\n",
      "square of 54 = 2916\n"
     ]
    }
   ],
   "source": [
    "#square the number by using Lambda Function\n",
    "square_number_ = lambda x: x**2\n",
    "\n",
    "#take input from user\n",
    "N = int(input(\"Enter the number to find out square = \"))\n",
    "\n",
    "#output with fstrint formating\n",
    "print(f\"square of {N} = {square_number_(N)}\")"
   ]
  },
  {
   "cell_type": "markdown",
   "id": "2dd2c4fe",
   "metadata": {},
   "source": [
    "# 23.\tWrite a code that uses a lambda function to check whether a given number is even or odd."
   ]
  },
  {
   "cell_type": "code",
   "execution_count": 30,
   "id": "c7eb9fb5",
   "metadata": {},
   "outputs": [
    {
     "name": "stdout",
     "output_type": "stream",
     "text": [
      "enter the number to find out number is Even or Not = 36\n",
      "\n",
      "your number 36 = Even\n"
     ]
    }
   ],
   "source": [
    "#lambda function to check number is even or odd\n",
    "even_number = lambda x: x%2==0\n",
    "\n",
    "#take number from user\n",
    "num_var = int(input(\"enter the number to find out number is Even or Not = \"))\n",
    "if even_number(num_var):\n",
    "    print(f\"\\nyour number {num_var} = Even\")\n",
    "else:\n",
    "    print(f\"\\nyour number {num_var} is Odd\")"
   ]
  },
  {
   "cell_type": "markdown",
   "id": "601f6b16",
   "metadata": {},
   "source": [
    "# 24.\tWrite a code that uses a lambda function to concatenate two strings."
   ]
  },
  {
   "cell_type": "code",
   "execution_count": 31,
   "id": "821e44d8",
   "metadata": {},
   "outputs": [
    {
     "data": {
      "text/plain": [
       "'Chander Parkash'"
      ]
     },
     "execution_count": 31,
     "metadata": {},
     "output_type": "execute_result"
    }
   ],
   "source": [
    "#Lambda function to concatenate two strings\n",
    "string_concatenate = lambda x,y: x+y\n",
    "string_concatenate(\"Chander \", \"Parkash\")"
   ]
  },
  {
   "cell_type": "markdown",
   "id": "363c9131",
   "metadata": {},
   "source": [
    "# 25.\tWrite a code that uses a lambda function to find the maximum of three given numbers."
   ]
  },
  {
   "cell_type": "code",
   "execution_count": 32,
   "id": "73185714",
   "metadata": {},
   "outputs": [
    {
     "name": "stdout",
     "output_type": "stream",
     "text": [
      "Enter the 1st number = 74\n",
      "\n",
      "Enter the 2nd number = 36\n",
      "\n",
      "Enter the 3rd number = 19\n",
      "\n",
      "maximum number from the above is 74\n"
     ]
    }
   ],
   "source": [
    "find_maximum = lambda a,b,c: max(a,b,c)\n",
    "\n",
    "a = int(input(\"Enter the 1st number = \"))\n",
    "b = int(input(\"\\nEnter the 2nd number = \"))\n",
    "c = int(input(\"\\nEnter the 3rd number = \"))\n",
    "\n",
    "print(f\"\\nmaximum number from the above is {find_maximum(a,b,c)}\")"
   ]
  },
  {
   "cell_type": "markdown",
   "id": "f7dfb3c6",
   "metadata": {},
   "source": [
    "# 26.\tWhat is encapsulation in OOP?"
   ]
  },
  {
   "cell_type": "code",
   "execution_count": 33,
   "id": "d4ea9c24",
   "metadata": {},
   "outputs": [
    {
     "data": {
      "text/plain": [
       "'\\nAns\\nEncapsulation creates a protective barrier around the data, restricting direct access from outside the class.\\nBy limiting direct access to the data, encapsulation prevents accidental or malicious changes from outside the class.\\nEncapsulation as creating a self-contained package. The data is the private property of the class, and the methods act\\nas the approved channels to interact with that data. This approach promotes data integrity and security in your programs.\\n\\n'"
      ]
     },
     "execution_count": 33,
     "metadata": {},
     "output_type": "execute_result"
    }
   ],
   "source": [
    "'''\n",
    "Ans\n",
    "Encapsulation creates a protective barrier around the data, restricting direct access from outside the class.\n",
    "By limiting direct access to the data, encapsulation prevents accidental or malicious changes from outside the class.\n",
    "Encapsulation as creating a self-contained package. The data is the private property of the class, and the methods act\n",
    "as the approved channels to interact with that data. This approach promotes data integrity and security in your programs.\n",
    "\n",
    "'''"
   ]
  },
  {
   "cell_type": "markdown",
   "id": "a073656a",
   "metadata": {},
   "source": [
    "# 27.\tExplain the use of access modifiers in Python classes."
   ]
  },
  {
   "cell_type": "code",
   "execution_count": 34,
   "id": "0541fff9",
   "metadata": {},
   "outputs": [
    {
     "data": {
      "text/plain": [
       "\"\\nAns\\nIn Python, access modifiers control the visibility and accessibility of a class's internal elements (attributes and methods)\\nto the outside world. They dictate whether other parts of your code can access, modify, or inherit these elements. Public,\\nPrivate and protected are main access modifiers. By effectively using access modifiers, you can achieve better data hiding\\nand encapsulation in your Python classes. This leads to more secure and maintainable code.\\n\\n\""
      ]
     },
     "execution_count": 34,
     "metadata": {},
     "output_type": "execute_result"
    }
   ],
   "source": [
    "'''\n",
    "Ans\n",
    "In Python, access modifiers control the visibility and accessibility of a class's internal elements (attributes and methods)\n",
    "to the outside world. They dictate whether other parts of your code can access, modify, or inherit these elements. Public,\n",
    "Private and protected are main access modifiers. By effectively using access modifiers, you can achieve better data hiding\n",
    "and encapsulation in your Python classes. This leads to more secure and maintainable code.\n",
    "\n",
    "'''"
   ]
  },
  {
   "cell_type": "markdown",
   "id": "e17ee38b",
   "metadata": {},
   "source": [
    "# 28.\tWhat is inheritance in OOP?"
   ]
  },
  {
   "cell_type": "code",
   "execution_count": 35,
   "id": "02db229c",
   "metadata": {},
   "outputs": [
    {
     "data": {
      "text/plain": [
       "\"\\nAns\\nOverall, inheritance is a fundamental concept in OOP that allows for code reusability, specialization, and better\\nrepresentation of real-world relationships between objects. Inheritance in object-oriented programming (OOP) is a\\npowerful mechanism that allows you to create new classes (subclasses or derived classes) based on existing classes\\n(base classes or parent classes). It's like inheriting traits from a parent in the real world.\\n\\n\""
      ]
     },
     "execution_count": 35,
     "metadata": {},
     "output_type": "execute_result"
    }
   ],
   "source": [
    "'''\n",
    "Ans\n",
    "Overall, inheritance is a fundamental concept in OOP that allows for code reusability, specialization, and better\n",
    "representation of real-world relationships between objects. Inheritance in object-oriented programming (OOP) is a\n",
    "powerful mechanism that allows you to create new classes (subclasses or derived classes) based on existing classes\n",
    "(base classes or parent classes). It's like inheriting traits from a parent in the real world.\n",
    "\n",
    "'''"
   ]
  },
  {
   "cell_type": "markdown",
   "id": "83275dcb",
   "metadata": {},
   "source": [
    "# 29.\tDefine polymorphism in OOP."
   ]
  },
  {
   "cell_type": "code",
   "execution_count": 36,
   "id": "c38fdde5",
   "metadata": {},
   "outputs": [
    {
     "data": {
      "text/plain": [
       "\"\\nAns\\npolymorphism refers to the ability of objects of different classes to respond differently to the same message or method call.\\nIt's like encountering different shapes (objects) but using the same general instruction (message) to interact with them. we\\ncan easily use same code in different positions.\\n\\n\""
      ]
     },
     "execution_count": 36,
     "metadata": {},
     "output_type": "execute_result"
    }
   ],
   "source": [
    "'''\n",
    "Ans\n",
    "polymorphism refers to the ability of objects of different classes to respond differently to the same message or method call.\n",
    "It's like encountering different shapes (objects) but using the same general instruction (message) to interact with them. we\n",
    "can easily use same code in different positions.\n",
    "\n",
    "'''"
   ]
  },
  {
   "cell_type": "markdown",
   "id": "12755169",
   "metadata": {},
   "source": [
    "# 30.\tExplain method overriding in Python."
   ]
  },
  {
   "cell_type": "code",
   "execution_count": 37,
   "id": "c0f843c4",
   "metadata": {},
   "outputs": [
    {
     "data": {
      "text/plain": [
       "\"\\nAns\\nMethod overriding in Python is a core concept in object-oriented programming (OOP) that allows subclasses (child classes)\\nto redefine the behavior of methods inherited from their parent class. It's a way to specialize inherited functionality\\nfor a subclass.\\n\\n\\n\""
      ]
     },
     "execution_count": 37,
     "metadata": {},
     "output_type": "execute_result"
    }
   ],
   "source": [
    "'''\n",
    "Ans\n",
    "Method overriding in Python is a core concept in object-oriented programming (OOP) that allows subclasses (child classes)\n",
    "to redefine the behavior of methods inherited from their parent class. It's a way to specialize inherited functionality\n",
    "for a subclass.\n",
    "\n",
    "\n",
    "'''"
   ]
  },
  {
   "cell_type": "markdown",
   "id": "c2404378",
   "metadata": {},
   "source": [
    "# 31.\tDefine a parent class Animal with a method make_sound that prints “Generic animal sound”.  Create a child class Dog inheriting from Animal with a method make_sound that prints “Woof!”. "
   ]
  },
  {
   "cell_type": "code",
   "execution_count": 38,
   "id": "556bd4d3",
   "metadata": {},
   "outputs": [
    {
     "name": "stdout",
     "output_type": "stream",
     "text": [
      "Woof!\n"
     ]
    }
   ],
   "source": [
    "class Animal:\n",
    "    def make_sound(self):\n",
    "        print(\"Generic animal sound\")\n",
    "\n",
    "class Dog(Animal):\n",
    "    def make_sound(self):\n",
    "        print(\"Woof!\")\n",
    "\n",
    "dog = Dog()\n",
    "\n",
    "# Call make_sound()\n",
    "dog.make_sound()  # Output: Woof!\n",
    "\n"
   ]
  },
  {
   "cell_type": "markdown",
   "id": "52d8e124",
   "metadata": {},
   "source": [
    "# 32.\tDefine a method move in the Animal class that prints “Animal moves”. Override the move method in the Dog class to print “Dog runs.”"
   ]
  },
  {
   "cell_type": "code",
   "execution_count": 39,
   "id": "b8b3b878",
   "metadata": {},
   "outputs": [
    {
     "name": "stdout",
     "output_type": "stream",
     "text": [
      "Animal moves\n",
      "Dog runs\n"
     ]
    }
   ],
   "source": [
    "class Animal:\n",
    "    def move (self):\n",
    "        print(\"Animal moves\")\n",
    "class Dog(Animal):\n",
    "    def move (self):\n",
    "        print(\"Dog runs\")\n",
    "\n",
    "animal = Animal()\n",
    "dog = Dog()\n",
    "\n",
    "animal.move()\n",
    "dog.move()"
   ]
  },
  {
   "cell_type": "markdown",
   "id": "33bac889",
   "metadata": {},
   "source": [
    "# 33.\tCreate a class Mammal with a method reproduce that prints “Giving birth to live young.” Create a class DogMammal inheriting from both Dog and Mammal."
   ]
  },
  {
   "cell_type": "code",
   "execution_count": 40,
   "id": "d29556d1",
   "metadata": {},
   "outputs": [],
   "source": [
    "#create class as Mammal\n",
    "class Mammal:\n",
    "    def reproduce(self):\n",
    "        print(\"Giving birth to live young.\")\n",
    "\n",
    "#create class as Dog\n",
    "class Dog:\n",
    "    def Dog_nature(self):\n",
    "        print(\"Dogs are loyal in nature\")\n",
    "\n",
    "#create class as DogMammal which has access of Mammal and Dog\n",
    "class DogMammal(Mammal, Dog):\n",
    "    def dog_sound(self):\n",
    "        print(\"bark\")"
   ]
  },
  {
   "cell_type": "code",
   "execution_count": 41,
   "id": "4017b740",
   "metadata": {},
   "outputs": [
    {
     "name": "stdout",
     "output_type": "stream",
     "text": [
      "Dogs are loyal in nature\n",
      "bark\n",
      "Giving birth to live young.\n"
     ]
    }
   ],
   "source": [
    "Dog_Mammal = DogMammal()\n",
    "Dog_Mammal.Dog_nature()\n",
    "Dog_Mammal.dog_sound()\n",
    "Dog_Mammal.reproduce()"
   ]
  },
  {
   "cell_type": "markdown",
   "id": "8d9e1296",
   "metadata": {},
   "source": [
    "# 34.\tCreate a class GermanShepherd inheriting from Dog and override the make_sound method to print “Bark!”"
   ]
  },
  {
   "cell_type": "code",
   "execution_count": 42,
   "id": "2f3bd18d",
   "metadata": {},
   "outputs": [
    {
     "name": "stdout",
     "output_type": "stream",
     "text": [
      "Dog barking\n",
      "Bark!\n"
     ]
    }
   ],
   "source": [
    "class Dog:\n",
    "    def make_sound(self):\n",
    "        print(\"Dog barking\")\n",
    "class GermanShepherd(Dog):\n",
    "    def make_sound(self):\n",
    "        print(\"Bark!\")\n",
    "\n",
    "dog = Dog()\n",
    "dog.make_sound()\n",
    "        \n",
    "German_Shepherd = GermanShepherd()\n",
    "German_Shepherd.make_sound()"
   ]
  },
  {
   "cell_type": "markdown",
   "id": "ae59667c",
   "metadata": {},
   "source": [
    "# 35.\tDefine constructors in both the Animal and Dog classes with different initialization parameters."
   ]
  },
  {
   "cell_type": "code",
   "execution_count": 43,
   "id": "92da6cfe",
   "metadata": {},
   "outputs": [
    {
     "name": "stdout",
     "output_type": "stream",
     "text": [
      "Elephant\n",
      "dog\n",
      "noodle\n",
      "bark\n",
      "Golden Retriever\n"
     ]
    }
   ],
   "source": [
    "class Animal_New:\n",
    "    def __init__(self,species):\n",
    "        self.species = species\n",
    "class Dog_New:\n",
    "    def __init__(self, species, name, sound, breed):\n",
    "        self.species = species\n",
    "        self.name = name\n",
    "        self.sound = sound\n",
    "        self.breed = breed\n",
    "\n",
    "animal_new = Animal_New(\"Elephant\")\n",
    "dog_new = Dog_New(\"dog\", \"noodle\", \"bark\", \"Golden Retriever\")\n",
    "\n",
    "print(animal_new.species)\n",
    "print(dog_new.species)\n",
    "print(dog_new.name)\n",
    "print(dog_new.sound)\n",
    "print(dog_new.breed)"
   ]
  },
  {
   "cell_type": "markdown",
   "id": "f5c9885c",
   "metadata": {},
   "source": [
    "# 36.\tWhat is abstraction in Python? How is it implemented?"
   ]
  },
  {
   "cell_type": "code",
   "execution_count": 44,
   "id": "26e99d38",
   "metadata": {},
   "outputs": [
    {
     "data": {
      "text/plain": [
       "'\\nAns\\nAbstraction in Python is a fundamental concept in object-oriented programming (OOP) that focuses on presenting a simplified\\nview of complex functionalities. It allows you to hide unnecessary details and expose only the essential information and \\nfunctionalities to users. This promotes code reusability, maintainability, and reduces complexity.\\nData abstraction & process abstraction are two main ways to achieve abstraction in Python.\\n\\n'"
      ]
     },
     "execution_count": 44,
     "metadata": {},
     "output_type": "execute_result"
    }
   ],
   "source": [
    "'''\n",
    "Ans\n",
    "Abstraction in Python is a fundamental concept in object-oriented programming (OOP) that focuses on presenting a simplified\n",
    "view of complex functionalities. It allows you to hide unnecessary details and expose only the essential information and \n",
    "functionalities to users. This promotes code reusability, maintainability, and reduces complexity.\n",
    "Data abstraction & process abstraction are two main ways to achieve abstraction in Python.\n",
    "\n",
    "'''"
   ]
  },
  {
   "cell_type": "markdown",
   "id": "7f141ee0",
   "metadata": {},
   "source": [
    "# 37.\tExplain the importance of abstraction in object-oriented programming."
   ]
  },
  {
   "cell_type": "code",
   "execution_count": 45,
   "id": "1e9e5b9c",
   "metadata": {},
   "outputs": [
    {
     "data": {
      "text/plain": [
       "'\\nAns\\nAbstraction is a powerful tool in OOP that helps programmers manage complexity, create reusable and maintainable code,\\nand design flexible and adaptable software systems. It allows you to focus on the \"big picture\" functionalities while \\nmaintaining control over the underlying details.\\n\\n'"
      ]
     },
     "execution_count": 45,
     "metadata": {},
     "output_type": "execute_result"
    }
   ],
   "source": [
    "'''\n",
    "Ans\n",
    "Abstraction is a powerful tool in OOP that helps programmers manage complexity, create reusable and maintainable code,\n",
    "and design flexible and adaptable software systems. It allows you to focus on the \"big picture\" functionalities while \n",
    "maintaining control over the underlying details.\n",
    "\n",
    "'''"
   ]
  },
  {
   "cell_type": "markdown",
   "id": "843f925d",
   "metadata": {},
   "source": [
    "# 38.\tHow are abstract methods different from regular methods in Python?"
   ]
  },
  {
   "cell_type": "code",
   "execution_count": 46,
   "id": "6258dc3c",
   "metadata": {},
   "outputs": [
    {
     "data": {
      "text/plain": [
       "'\\nAns\\nRegular Methods:\\nRegular methods defined within a class it contain the complete implementation details, including the logic and steps required \\nto perform a specific task. When you call a regular method on an object, the defined code within the method is executed.\\n\\nAbstract Methods:\\nAbstract methods are essentially method declarations without an actual implementation. They use the @abstractmethod decorator \\nfrom the abc module to mark them as abstract. Classes containing abstract methods are often referred to as Abstract Base \\nClasses (ABCs). You cannot directly create objects (instantiate) from an ABC.\\n\\n\\n'"
      ]
     },
     "execution_count": 46,
     "metadata": {},
     "output_type": "execute_result"
    }
   ],
   "source": [
    "'''\n",
    "Ans\n",
    "Regular Methods:\n",
    "Regular methods defined within a class it contain the complete implementation details, including the logic and steps required \n",
    "to perform a specific task. When you call a regular method on an object, the defined code within the method is executed.\n",
    "\n",
    "Abstract Methods:\n",
    "Abstract methods are essentially method declarations without an actual implementation. They use the @abstractmethod decorator \n",
    "from the abc module to mark them as abstract. Classes containing abstract methods are often referred to as Abstract Base \n",
    "Classes (ABCs). You cannot directly create objects (instantiate) from an ABC.\n",
    "\n",
    "\n",
    "'''"
   ]
  },
  {
   "cell_type": "markdown",
   "id": "699fc3c6",
   "metadata": {},
   "source": [
    "# 39.\tHow can you achieve abstraction using interfaces in Python?"
   ]
  },
  {
   "cell_type": "code",
   "execution_count": 47,
   "id": "06b364a9",
   "metadata": {},
   "outputs": [
    {
     "data": {
      "text/plain": [
       "\"\\nAns\\nThe abc module in Python provides tools for creating Abstract Base Classes (ABCs). These classes define the methods that\\nchild classes must implement but don't contain the actual implementation themselves. ABCs enforce a common interface for \\nfunctionalities, promoting code reusability and consistency across related classes. While Python doesn't have dedicated \\ninterfaces, these techniques (ABCs) provide alternative ways to achieve abstraction and enforce a level of consistency \\nand code reusability in your programs.\\n\\n\""
      ]
     },
     "execution_count": 47,
     "metadata": {},
     "output_type": "execute_result"
    }
   ],
   "source": [
    "'''\n",
    "Ans\n",
    "The abc module in Python provides tools for creating Abstract Base Classes (ABCs). These classes define the methods that\n",
    "child classes must implement but don't contain the actual implementation themselves. ABCs enforce a common interface for \n",
    "functionalities, promoting code reusability and consistency across related classes. While Python doesn't have dedicated \n",
    "interfaces, these techniques (ABCs) provide alternative ways to achieve abstraction and enforce a level of consistency \n",
    "and code reusability in your programs.\n",
    "\n",
    "'''"
   ]
  },
  {
   "cell_type": "markdown",
   "id": "8b50bd38",
   "metadata": {},
   "source": [
    "# 40.\tCan you provide an example of how abstraction can be utilized to create a common interface for a group of related classes in Python?"
   ]
  },
  {
   "cell_type": "code",
   "execution_count": 48,
   "id": "87f1c283",
   "metadata": {},
   "outputs": [
    {
     "name": "stdout",
     "output_type": "stream",
     "text": [
      "office start timing of Government Office Headquarter is 9:30 AM\n",
      "Lunch timing of Government Office Headquarter start from 1:00 PM to 1:30 PM\n",
      "office end timing of Government Office Headquarter is 6:00 PM\n",
      "\n",
      "office start timing of Government Office Division is 10:00 AM\n",
      "Lunch timing of Government Office Division start from 1:00 PM to 1:30 PM\n",
      "office end timing of Government Office Division is 5:00 PM\n"
     ]
    }
   ],
   "source": [
    "import abc\n",
    "\n",
    "class Office:\n",
    "    \n",
    "    @abc.abstractmethod\n",
    "    def office_start(self):\n",
    "        pass\n",
    "    \n",
    "    @abc.abstractmethod\n",
    "    def office_lunch(self):\n",
    "        pass\n",
    "    \n",
    "    @abc.abstractmethod\n",
    "    def office_end(self):\n",
    "        pass\n",
    "\n",
    "\n",
    "class Government_Office_Headquarter(Office):\n",
    "    \n",
    "    def office_start(self):\n",
    "        print(\"office start timing of Government Office Headquarter is 9:30 AM\")\n",
    "        \n",
    "    def office_lunch(self):\n",
    "        print(\"Lunch timing of Government Office Headquarter start from 1:00 PM to 1:30 PM\")\n",
    "        \n",
    "    def office_end(self):\n",
    "        print(\"office end timing of Government Office Headquarter is 6:00 PM\")\n",
    "\n",
    "class Government_Office_Divisions(Office):\n",
    "    \n",
    "    def office_start(self):\n",
    "        print(\"office start timing of Government Office Division is 10:00 AM\")\n",
    "        \n",
    "    def office_lunch(self):\n",
    "        print(\"Lunch timing of Government Office Division start from 1:00 PM to 1:30 PM\")\n",
    "        \n",
    "    def office_end(self):\n",
    "        print(\"office end timing of Government Office Division is 5:00 PM\")\n",
    "\n",
    "        \n",
    "Headquarter = Government_Office_Headquarter()\n",
    "Division = Government_Office_Divisions()\n",
    "\n",
    "\n",
    "Headquarter.office_start()\n",
    "\n",
    "Headquarter.office_lunch()\n",
    "\n",
    "Headquarter.office_end()\n",
    "print()\n",
    "\n",
    "Division.office_start()\n",
    "Division.office_lunch()\n",
    "Division.office_end()\n"
   ]
  },
  {
   "cell_type": "markdown",
   "id": "2bf08479",
   "metadata": {},
   "source": [
    "# 41.\tHow does Python achieve polymorphism through method overriding?"
   ]
  },
  {
   "cell_type": "code",
   "execution_count": 49,
   "id": "6ad9db0b",
   "metadata": {},
   "outputs": [
    {
     "data": {
      "text/plain": [
       "'\\nAns\\nPolymorphism with method overriding allows subclasses to redefine inherited methods from parent classes. This enables you \\nto create a base functionality that can be customized for specific use cases in child classes. Method overriding is achieved \\nby simply defining a method in the subclass with the same name and signature (arguments) as a method in the parent class. \\nWhen you call this method on an object of the subclass, finds the method definition within the subclass itself, overriding \\nthe inherited behavior.\\n\\n'"
      ]
     },
     "execution_count": 49,
     "metadata": {},
     "output_type": "execute_result"
    }
   ],
   "source": [
    "'''\n",
    "Ans\n",
    "Polymorphism with method overriding allows subclasses to redefine inherited methods from parent classes. This enables you \n",
    "to create a base functionality that can be customized for specific use cases in child classes. Method overriding is achieved \n",
    "by simply defining a method in the subclass with the same name and signature (arguments) as a method in the parent class. \n",
    "When you call this method on an object of the subclass, finds the method definition within the subclass itself, overriding \n",
    "the inherited behavior.\n",
    "\n",
    "'''"
   ]
  },
  {
   "cell_type": "markdown",
   "id": "f6f35af5",
   "metadata": {},
   "source": [
    "# 42.\tDefine a base class with a method and a subclass that overrides the method."
   ]
  },
  {
   "cell_type": "code",
   "execution_count": 50,
   "id": "2de8327e",
   "metadata": {},
   "outputs": [
    {
     "name": "stdout",
     "output_type": "stream",
     "text": [
      "Iron Almirah looks heavy\n",
      "wood Almirah looks superb\n"
     ]
    }
   ],
   "source": [
    "#parent class\n",
    "class Almirah:\n",
    "    def category(self):\n",
    "        print(\"Iron Almirah looks heavy\")\n",
    "\n",
    "#child class\n",
    "class Wood_Almirah(Almirah):\n",
    "    def category(self):\n",
    "        print(\"wood Almirah looks superb\")\n",
    "\n",
    "almirah = Almirah()\n",
    "wood_almirah = Wood_Almirah()\n",
    "\n",
    "almirah.category() #calling parents method here\n",
    "wood_almirah.category() #same method called but child class takes 1st preference than parents class"
   ]
  },
  {
   "cell_type": "markdown",
   "id": "977c60fd",
   "metadata": {},
   "source": [
    "# 43.\tDefine a base class and multiple subclasses with overridden methods."
   ]
  },
  {
   "cell_type": "code",
   "execution_count": 51,
   "id": "e045a3e1",
   "metadata": {},
   "outputs": [
    {
     "name": "stdout",
     "output_type": "stream",
     "text": [
      "Multiplication is nothing but multiply the value\n",
      "\n",
      "There is noting to print that's why output comes = None\n",
      "\n",
      "Square of 5 = 25\n",
      "\n",
      "Cube of 4 = 64\n",
      "\n",
      "Area of circle with radius 15 = 706.5\n"
     ]
    }
   ],
   "source": [
    "class Multiplication:\n",
    "    def calculation(self):\n",
    "        print(\"Multiplication is nothing but multiply the value\")\n",
    "        \n",
    "class Square(Multiplication):\n",
    "    \n",
    "    def __init__(self, value):\n",
    "        self.value = value\n",
    "    \n",
    "    def calculation(self):\n",
    "        return self.value * self.value\n",
    "\n",
    "class Cube(Multiplication):\n",
    "    def __init__(self, cubevalue):\n",
    "        self.cubevalue = cubevalue\n",
    "    \n",
    "    def calculation(self):\n",
    "        return self.cubevalue * self.cubevalue * self.cubevalue\n",
    "\n",
    "class Circle(Multiplication):\n",
    "    def __init__(self, radius):\n",
    "        self.radius = radius\n",
    "    def calculation(self):\n",
    "        return self.radius * self.radius * 3.14\n",
    "\n",
    "Multiply = Multiplication()\n",
    "Square = Square(5)\n",
    "Cube = Cube(4)\n",
    "Circle = Circle(15)\n",
    "\n",
    "print(f\"\\nThere is noting to print that's why output comes = {Multiply.calculation()}\")\n",
    "print(f\"\\nSquare of 5 = {Square.calculation()}\")\n",
    "print(f\"\\nCube of 4 = {Cube.calculation()}\")\n",
    "print(f\"\\nArea of circle with radius 15 = {Circle.calculation()}\")\n"
   ]
  },
  {
   "cell_type": "markdown",
   "id": "26e978be",
   "metadata": {},
   "source": [
    "# 44.\tHow does polymorphism improve code readability and reusability?"
   ]
  },
  {
   "cell_type": "code",
   "execution_count": 52,
   "id": "f1384f73",
   "metadata": {},
   "outputs": [
    {
     "data": {
      "text/plain": [
       "'\\nAns\\n1. Promotes Code with a Clear Hierarchy: This structure makes the code easier to understand as it follows a logical flow \\nfrom general to specific functionalities.\\n\\n2. Reduces Code Duplication: This reduces code duplication and improves maintainability.\\n\\n3. Enhances Code Flexibility: This allows your code to adapt to various situations without modifying the base class behavior.\\n\\n4. Improves Readability Through Generic Code: Polymorphism enables you to write generic code that works with objects of \\ndifferent subclasses as long as they share a common base class and interface (methods).\\n\\n\\n\\n'"
      ]
     },
     "execution_count": 52,
     "metadata": {},
     "output_type": "execute_result"
    }
   ],
   "source": [
    "'''\n",
    "Ans\n",
    "1. Promotes Code with a Clear Hierarchy: This structure makes the code easier to understand as it follows a logical flow \n",
    "from general to specific functionalities.\n",
    "\n",
    "2. Reduces Code Duplication: This reduces code duplication and improves maintainability.\n",
    "\n",
    "3. Enhances Code Flexibility: This allows your code to adapt to various situations without modifying the base class behavior.\n",
    "\n",
    "4. Improves Readability Through Generic Code: Polymorphism enables you to write generic code that works with objects of \n",
    "different subclasses as long as they share a common base class and interface (methods).\n",
    "\n",
    "\n",
    "\n",
    "'''"
   ]
  },
  {
   "cell_type": "markdown",
   "id": "4d437463",
   "metadata": {},
   "source": [
    "# 45.\tDescribe how Python supports polymorphism with duck typing."
   ]
  },
  {
   "cell_type": "code",
   "execution_count": 53,
   "id": "09b10be0",
   "metadata": {},
   "outputs": [
    {
     "data": {
      "text/plain": [
       "'\\nAns\\nUnlike some other object-oriented languages, Python doesn\\'t rely on strict interfaces to enforce polymorphism. Instead, \\nit utilizes a concept called \"duck typing.\" Here\\'s how duck typing works in Python to achieve polymorphism:\\n\\nDuck Typing Philosophy:\\n\\nThe phrase \"duck typing\" comes from the saying \"If it walks like a duck and quacks like a duck, then it must be a duck.\"\\nIn Python\\'s context, it means that a function or code block doesn\\'t necessarily care about the specific class of an object.\\nInstead, it focuses on whether the object has the required methods or attributes to perform the desired task.\\n\\n\\n'"
      ]
     },
     "execution_count": 53,
     "metadata": {},
     "output_type": "execute_result"
    }
   ],
   "source": [
    "'''\n",
    "Ans\n",
    "Unlike some other object-oriented languages, Python doesn't rely on strict interfaces to enforce polymorphism. Instead, \n",
    "it utilizes a concept called \"duck typing.\" Here's how duck typing works in Python to achieve polymorphism:\n",
    "\n",
    "Duck Typing Philosophy:\n",
    "\n",
    "The phrase \"duck typing\" comes from the saying \"If it walks like a duck and quacks like a duck, then it must be a duck.\"\n",
    "In Python's context, it means that a function or code block doesn't necessarily care about the specific class of an object.\n",
    "Instead, it focuses on whether the object has the required methods or attributes to perform the desired task.\n",
    "\n",
    "\n",
    "'''"
   ]
  },
  {
   "cell_type": "markdown",
   "id": "77ee5561",
   "metadata": {},
   "source": [
    "# 46.\tHow do you achieve encapsulation in Python?"
   ]
  },
  {
   "cell_type": "code",
   "execution_count": 54,
   "id": "a16d2435",
   "metadata": {},
   "outputs": [
    {
     "data": {
      "text/plain": [
       "\"\\nAns\\nEncapsulation in Python is achieved through a combination of conventions, Python doesn't have built-in keywords like private \\nwith double underscore(__) or public with single underscore (_) to restrict access to attributes and methods. However, a \\ncommon convention is to prefix data members you want to hide with a single underscore (_). This indicates to programmers \\nthat these attributes are meant for internal use within the class and shouldn't be directly accessed or modified from outside.\\n\\n\\n\""
      ]
     },
     "execution_count": 54,
     "metadata": {},
     "output_type": "execute_result"
    }
   ],
   "source": [
    "'''\n",
    "Ans\n",
    "Encapsulation in Python is achieved through a combination of conventions, Python doesn't have built-in keywords like private \n",
    "with double underscore(__) or public with single underscore (_) to restrict access to attributes and methods. However, a \n",
    "common convention is to prefix data members you want to hide with a single underscore (_). This indicates to programmers \n",
    "that these attributes are meant for internal use within the class and shouldn't be directly accessed or modified from outside.\n",
    "\n",
    "\n",
    "'''"
   ]
  },
  {
   "cell_type": "markdown",
   "id": "1f439185",
   "metadata": {},
   "source": [
    "# 47.\tCan encapsulation be bypassed in Python? If so, how?"
   ]
  },
  {
   "cell_type": "code",
   "execution_count": 55,
   "id": "9af0e543",
   "metadata": {},
   "outputs": [
    {
     "name": "stdout",
     "output_type": "stream",
     "text": [
      "Chander Parkash\n",
      "Cricket\n"
     ]
    }
   ],
   "source": [
    "'''\n",
    "Ans\n",
    "Yes, encapsulation can be bypassed in Python to some extent, despite not having strict access modifiers like private or public.\n",
    "\n",
    "'''\n",
    "class Employee:\n",
    "    def __init__(self, name, sport):\n",
    "        self._name = name\n",
    "        self.__sport = sport\n",
    "\n",
    "employee = Employee(\"Chander Parkash\", \"Cricket\")\n",
    "\n",
    "# Output: Chander Parkash (directly accessing the hidden attribute)\n",
    "print(employee._name)\n",
    "\n",
    "print(employee._Employee__sport)  # Accessing the mangled attribute name\n"
   ]
  },
  {
   "cell_type": "markdown",
   "id": "1a833e37",
   "metadata": {},
   "source": [
    "# 48.\tImplement a class Bank Account with a private balance attribute. Include methods to deposit, withdraw, and check the balance."
   ]
  },
  {
   "cell_type": "code",
   "execution_count": 56,
   "id": "e4004d49",
   "metadata": {},
   "outputs": [
    {
     "name": "stdout",
     "output_type": "stream",
     "text": [
      "Deposited Rs.150. New balance: Rs.1150\n",
      "Withdrew Rs.75. New balance: Rs.1075\n",
      "Insufficient funds or invalid withdrawal amount.\n",
      "Current balance: Rs.1075\n"
     ]
    }
   ],
   "source": [
    "class BankAccount:\n",
    "    def __init__(self, Opening_balance):\n",
    "        self._balance = Opening_balance  # Private attribute using convention\n",
    "\n",
    "    def deposit(self, amount):\n",
    "        if amount > 0:\n",
    "            self._balance += amount\n",
    "            print(f\"Deposited Rs.{amount}. New balance: Rs.{self._balance}\")\n",
    "        else:\n",
    "            print(\"Deposit amount must be positive.\")\n",
    "\n",
    "    def withdraw(self, amount):\n",
    "        if 0 < amount <= self._balance:\n",
    "            self._balance -= amount\n",
    "            print(f\"Withdrew Rs.{amount}. New balance: Rs.{self._balance}\")\n",
    "        else:\n",
    "            print(\"Insufficient funds or invalid withdrawal amount.\")\n",
    "\n",
    "    def get_balance(self):\n",
    "        return self._balance\n",
    "\n",
    "account = BankAccount(1000)\n",
    "account.deposit(150)  # Output: Deposited Rs. 50. New balance: Rs. 1150\n",
    "account.withdraw(75)  # Output: Withdrew Rs. 75. New balance: Rs. 1075\n",
    "account.withdraw(1100)  # Output: Insufficient funds or invalid withdrawal amount.\n",
    "print(f\"Current balance: Rs.{account.get_balance()}\")  # Output: Current balance: Rs. 1075\n"
   ]
  },
  {
   "cell_type": "markdown",
   "id": "5a708c0c",
   "metadata": {},
   "source": [
    "# 49.\tDevelop a Person class with private attributes name and email, and methods to set and get the email."
   ]
  },
  {
   "cell_type": "code",
   "execution_count": 57,
   "id": "c6a4a7bb",
   "metadata": {},
   "outputs": [
    {
     "name": "stdout",
     "output_type": "stream",
     "text": [
      "chanderParkashDemo@example.com\n"
     ]
    }
   ],
   "source": [
    "class Person:\n",
    "    def __init__(self, name):\n",
    "        self._name = name  # Public attribute for name\n",
    "        self.__email = None  # Private attribute for email (using convention)\n",
    "\n",
    "    def set_email(self, new_email):\n",
    "        self.__email = new_email\n",
    "\n",
    "    def get_email(self):\n",
    "        return self.__email\n",
    "\n",
    "# Example usage\n",
    "person = Person(\"Chander Parkash\")\n",
    "person.set_email(\"chanderParkashDemo@example.com\")\n",
    "print(person.get_email())  # Output:chanderParkashDemo@example.com\n"
   ]
  },
  {
   "cell_type": "markdown",
   "id": "74477fe6",
   "metadata": {},
   "source": [
    "# 50.\tWhy is encapsulation considered a pillar of object-oriented programming (OOP)?"
   ]
  },
  {
   "cell_type": "code",
   "execution_count": 58,
   "id": "8f9fee08",
   "metadata": {},
   "outputs": [
    {
     "data": {
      "text/plain": [
       "\"\\nAns\\nEncapsulation is considered a pillar of OOP because It promotes data security by restricting direct access to an object's \\ncritical attributes. Encapsulation encourages the creation of well-defined and modular classes. Each class encapsulates its \\ndata and functionalities, making the code easier to understand and maintain. Encapsulated classes with well-defined \\nfunctionalities can be reused in different parts of your program. it allows you to control the level of information exposed \\nby a class. \\n\\n\\n\""
      ]
     },
     "execution_count": 58,
     "metadata": {},
     "output_type": "execute_result"
    }
   ],
   "source": [
    "'''\n",
    "Ans\n",
    "Encapsulation is considered a pillar of OOP because It promotes data security by restricting direct access to an object's \n",
    "critical attributes. Encapsulation encourages the creation of well-defined and modular classes. Each class encapsulates its \n",
    "data and functionalities, making the code easier to understand and maintain. Encapsulated classes with well-defined \n",
    "functionalities can be reused in different parts of your program. it allows you to control the level of information exposed \n",
    "by a class. \n",
    "\n",
    "\n",
    "'''"
   ]
  },
  {
   "cell_type": "markdown",
   "id": "200c46c0",
   "metadata": {},
   "source": [
    "# 51.\tCreate a decorator in Python that adds functionality to a simple function by printing a message before and after the function execution."
   ]
  },
  {
   "cell_type": "code",
   "execution_count": 59,
   "id": "2be8ab61",
   "metadata": {},
   "outputs": [
    {
     "name": "stdout",
     "output_type": "stream",
     "text": [
      "a message before the function execution\n",
      "hello\n",
      "a message after the function execution\n"
     ]
    }
   ],
   "source": [
    "def Decorator(func):\n",
    "    def wrapper():\n",
    "        print(\"a message before the function execution\")\n",
    "        func()\n",
    "        print(\"a message after the function execution\")\n",
    "    return wrapper\n",
    "\n",
    "@Decorator\n",
    "def Greeting():\n",
    "    print(\"hello\")\n",
    "\n",
    "#output\n",
    "Greeting()"
   ]
  },
  {
   "cell_type": "markdown",
   "id": "c837c372",
   "metadata": {},
   "source": [
    "# 52.\tModify the decorator to accept arguments and print the function name along with the message."
   ]
  },
  {
   "cell_type": "code",
   "execution_count": 60,
   "id": "13b927ff",
   "metadata": {},
   "outputs": [
    {
     "name": "stdout",
     "output_type": "stream",
     "text": [
      "This function has been decorated with a custom message - Function name: say_hello\n",
      "Hello, Chander Parkash!\n"
     ]
    }
   ],
   "source": [
    "def my_decorator(message):\n",
    "    def decorator(func):\n",
    "        def wrapper(*args, **kwargs):\n",
    "            print(f\"{message} - Function name: {func.__name__}\")\n",
    "            result = func(*args, **kwargs)\n",
    "            return result\n",
    "        return wrapper\n",
    "    return decorator\n",
    "\n",
    "@my_decorator(\"This function has been decorated with a custom message\")\n",
    "def say_hello(name):\n",
    "    print(f\"Hello, {name}!\")\n",
    "\n",
    "say_hello(\"Chander Parkash\")\n"
   ]
  },
  {
   "cell_type": "markdown",
   "id": "3cbb9bd8",
   "metadata": {},
   "source": [
    "# 53.\tCreate two decorators, and apply them to a single function. Ensure that they execute in the order they are applied."
   ]
  },
  {
   "cell_type": "code",
   "execution_count": 61,
   "id": "0b6eb5a4",
   "metadata": {},
   "outputs": [
    {
     "name": "stdout",
     "output_type": "stream",
     "text": [
      "this output for 1st decorator\n",
      "this output for 2nd decorator\n",
      "120\n"
     ]
    }
   ],
   "source": [
    "def first_decorator(func):\n",
    "    def wrapper():\n",
    "        print(\"this output for 1st decorator\")\n",
    "        func()\n",
    "    return wrapper\n",
    "\n",
    "def second_decorator(func):\n",
    "    def wrapper_two():\n",
    "        print(\"this output for 2nd decorator\")\n",
    "        func()\n",
    "    return wrapper_two\n",
    "\n",
    "@first_decorator\n",
    "@second_decorator\n",
    "def test_decorator():\n",
    "    print(24*5)\n",
    "\n",
    "test = test_decorator()\n",
    "\n",
    "test"
   ]
  },
  {
   "cell_type": "code",
   "execution_count": 62,
   "id": "df2404be",
   "metadata": {},
   "outputs": [],
   "source": [
    "def uppercase(func):\n",
    "    def wrapper(name):\n",
    "        #result = func(name)\n",
    "        #return result.upper()\n",
    "        return func(name).upper()\n",
    "    return wrapper\n",
    "\n",
    "def append_symbol(func):\n",
    "    def wrapper(symbol):\n",
    "        #result = func(symbol)\n",
    "        #return result + \" !!!\"\n",
    "        return func(symbol) + \" !!\"\n",
    "    return wrapper"
   ]
  },
  {
   "cell_type": "code",
   "execution_count": 63,
   "id": "ed3d5806",
   "metadata": {},
   "outputs": [
    {
     "name": "stdout",
     "output_type": "stream",
     "text": [
      "HELLO, CHANDER PARKASH !!\n"
     ]
    }
   ],
   "source": [
    "@uppercase  # Decorator applied first (uppercase first)\n",
    "@append_symbol  # Decorator applied second (append symbol after)\n",
    "def greet(name):\n",
    "    return f\"Hello, {name}\"\n",
    "\n",
    "# Calling the function\n",
    "greeting = greet(\"Chander Parkash\")\n",
    "print(greeting)"
   ]
  },
  {
   "cell_type": "markdown",
   "id": "4b4a5e27",
   "metadata": {},
   "source": [
    "# 55.\tCreate a decorator that preserves the metadata of the original function."
   ]
  },
  {
   "cell_type": "code",
   "execution_count": 64,
   "id": "7396fc86",
   "metadata": {},
   "outputs": [
    {
     "name": "stdout",
     "output_type": "stream",
     "text": [
      "A function that does something.\n",
      "my_function\n"
     ]
    }
   ],
   "source": [
    "import functools\n",
    "\n",
    "def preserve_metadata(func):\n",
    "    @functools.wraps(func)\n",
    "    def wrapper(*args, **kwargs):\n",
    "        \"\"\"Wraps the function and preserves its metadata.\"\"\"\n",
    "        return func(*args, **kwargs)\n",
    "    return wrapper\n",
    "\n",
    "@preserve_metadata\n",
    "def my_function(x, y):\n",
    "    \"\"\"A function that does something.\"\"\"\n",
    "    return x * y\n",
    "\n",
    "print(my_function.__doc__)  \n",
    "print(my_function.__name__)  \n"
   ]
  },
  {
   "cell_type": "markdown",
   "id": "e873dd87",
   "metadata": {},
   "source": [
    "# 56.\tCreate a Python class ‘Calculator’ with a static method ‘add’ that takes in two numbers and returns their sum."
   ]
  },
  {
   "cell_type": "code",
   "execution_count": 65,
   "id": "bab1a1da",
   "metadata": {},
   "outputs": [
    {
     "name": "stdout",
     "output_type": "stream",
     "text": [
      "enter the 1st value = 35\n",
      "enter the 2nd value = 4\n",
      "sum of 35 and 4 = 39\n"
     ]
    }
   ],
   "source": [
    "class Calculator():\n",
    "    \n",
    "    @staticmethod\n",
    "    def add(a, b):\n",
    "        return a+b\n",
    "    \n",
    "a = int(input(\"enter the 1st value = \"))\n",
    "b = int(input(\"enter the 2nd value = \"))\n",
    "cal = Calculator.add(a,b)\n",
    "print(f\"sum of {a} and {b} = {cal}\")\n"
   ]
  },
  {
   "cell_type": "markdown",
   "id": "cd2fe2c6",
   "metadata": {},
   "source": [
    "# 57.\tCreate a Python class “Employee’ with a class ‘method gst_employee_count’ that returns the total number of employees created."
   ]
  },
  {
   "cell_type": "code",
   "execution_count": 66,
   "id": "ec82d7d1",
   "metadata": {},
   "outputs": [
    {
     "name": "stdout",
     "output_type": "stream",
     "text": [
      "6\n"
     ]
    }
   ],
   "source": [
    "class Employee:\n",
    "    count = 0  \n",
    "    \n",
    "    def __init__(self):\n",
    "        Employee.count += 1  # adding employee count in count\n",
    "    \n",
    "    @classmethod\n",
    "    def gst_employee_count(cls):\n",
    "        return Employee.count\n",
    "\n",
    "emp1 = Employee()\n",
    "emp2 = Employee()\n",
    "emp3 = Employee()\n",
    "emp4 = Employee()\n",
    "emp5 = Employee()\n",
    "emp6 = Employee()\n",
    "\n",
    "total_employees = Employee.gst_employee_count()\n",
    "print(total_employees)\n"
   ]
  },
  {
   "cell_type": "markdown",
   "id": "ec5a09f4",
   "metadata": {},
   "source": [
    "# 58.\tCreate a Python class ‘StringFormatter’ with a static method ‘reverse_string’ that takes a string as input and returns its reverse."
   ]
  },
  {
   "cell_type": "code",
   "execution_count": 67,
   "id": "b664d810",
   "metadata": {},
   "outputs": [
    {
     "name": "stdout",
     "output_type": "stream",
     "text": [
      "Chander Parkash\n",
      "CHANDER PARKASH\n",
      "\n",
      "hsakraP rednahC\n",
      "HSAKRAP REDNAHC\n"
     ]
    }
   ],
   "source": [
    "class StringFormatter():\n",
    "    \n",
    "    @staticmethod\n",
    "    def reverse_string(name):\n",
    "        return name[::-1]\n",
    "\n",
    "without_reverse = \"Chander Parkash\"\n",
    "with_reverse = StringFormatter.reverse_string(without_reverse)\n",
    "\n",
    "print(without_reverse)\n",
    "print(without_reverse.upper())\n",
    "print()\n",
    "print(with_reverse)\n",
    "print(with_reverse.upper())\n",
    "        "
   ]
  },
  {
   "cell_type": "markdown",
   "id": "67efae5c",
   "metadata": {},
   "source": [
    "# 59.\tCreate a Python class ‘Circle’ with a class method ‘calculate_area’ that calculates and area of a circle given its radius."
   ]
  },
  {
   "cell_type": "code",
   "execution_count": 68,
   "id": "22358900",
   "metadata": {},
   "outputs": [
    {
     "name": "stdout",
     "output_type": "stream",
     "text": [
      "50.24\n"
     ]
    }
   ],
   "source": [
    "class Circle():\n",
    "    def calculate_area(radius):\n",
    "        return 3.14*radius*radius\n",
    "\n",
    "print(Circle.calculate_area(4))"
   ]
  },
  {
   "cell_type": "markdown",
   "id": "dfd11709",
   "metadata": {},
   "source": [
    "# 60.\tCreate a Python class ‘TemperatureConverter’ with a static method ‘celsius_to_fahrenheit’ that converts Celsius to Fahrenheit."
   ]
  },
  {
   "cell_type": "code",
   "execution_count": 69,
   "id": "4c00e33c",
   "metadata": {},
   "outputs": [
    {
     "name": "stdout",
     "output_type": "stream",
     "text": [
      "46.0 degrees Celsius is equal to 114.8 degrees Fahrenheit\n"
     ]
    }
   ],
   "source": [
    "class TemperatureConverter:\n",
    "    \n",
    "    @staticmethod\n",
    "    def celsius_to_fahrenheit(celsius):\n",
    "        \"\"\"Converts Celsius temperature to Fahrenheit.\"\"\"\n",
    "        \n",
    "        fahrenheit = (celsius * 9/5) + 32\n",
    "        return fahrenheit\n",
    "\n",
    "celsius_value = 46.0\n",
    "fahrenheit_value = TemperatureConverter.celsius_to_fahrenheit(celsius_value)\n",
    "print(f\"{celsius_value} degrees Celsius is equal to {fahrenheit_value} degrees Fahrenheit\")\n"
   ]
  },
  {
   "cell_type": "markdown",
   "id": "10425387",
   "metadata": {},
   "source": [
    "# 61.\tWhat is the purpose of the __str__() method in Python classes? Provide an example."
   ]
  },
  {
   "cell_type": "code",
   "execution_count": 70,
   "id": "f7134292",
   "metadata": {},
   "outputs": [
    {
     "name": "stdout",
     "output_type": "stream",
     "text": [
      "Person(name: Chander Parkash, age: 37)\n"
     ]
    }
   ],
   "source": [
    "'''\n",
    "Ans\n",
    "str() method use for convert any element into string also it provides a user-readable representation of the object's attributes \n",
    "and Improves code readability by making it easier to understand the contents of an object.\n",
    "\n",
    "'''\n",
    "\n",
    "class Person:\n",
    "    def __init__(self, name, age):\n",
    "        self.name = name\n",
    "        self.age = age\n",
    "\n",
    "\n",
    "  # Define the str() method to return a formatted string representation of the object\n",
    "    def __str__(self):\n",
    "        return f\"Person(name: {self.name}, age: {self.age})\"\n",
    "\n",
    "# Create a Person object\n",
    "person = Person(\"Chander Parkash\", 37)\n",
    "\n",
    "# Print the object using the str() method\n",
    "print(person)\n"
   ]
  },
  {
   "cell_type": "markdown",
   "id": "3ecf062c",
   "metadata": {},
   "source": [
    "# 62.\tHow does the __len__() method work in Python? Provide an example."
   ]
  },
  {
   "cell_type": "code",
   "execution_count": 71,
   "id": "7b4390df",
   "metadata": {},
   "outputs": [
    {
     "name": "stdout",
     "output_type": "stream",
     "text": [
      "The StringList has 4 elements i.e. ['Chander Parkash', 'Mangesh', 'Dharam', 'Sachin']\n"
     ]
    }
   ],
   "source": [
    "'''\n",
    "Ans\n",
    "The __len__() method in Python is a special method to find out the length of an object. It's built-in function by call of len() \n",
    "when you use it on an object. this function (len()) is applicable to every element for find out the length of the element.\n",
    "\n",
    "'''\n",
    "class StringList:\n",
    "    def __init__(self, lst):\n",
    "        self.list = lst\n",
    "\n",
    "  # Define the __len__() method to return the length of the internal data list\n",
    "    def __len__(self):\n",
    "        return len(self.list)\n",
    "\n",
    "# Create a StringList object\n",
    "lst = [\"Chander Parkash\", \"Mangesh\", \"Dharam\", \"Sachin\"]\n",
    "string_list = StringList(lst)\n",
    "\n",
    "# Get the length of the StringList using len()\n",
    "list_length = len(string_list)\n",
    "print(f\"The StringList has {list_length} elements i.e. {lst}\")\n",
    "\n"
   ]
  },
  {
   "cell_type": "markdown",
   "id": "41f22b2f",
   "metadata": {},
   "source": [
    "# 63.\tExplain the usage of the __add__() method in Python classes. Provide an example."
   ]
  },
  {
   "cell_type": "code",
   "execution_count": 72,
   "id": "cc7621a4",
   "metadata": {},
   "outputs": [
    {
     "name": "stdout",
     "output_type": "stream",
     "text": [
      "The sum of the points: (7, 7)\n"
     ]
    }
   ],
   "source": [
    "'''\n",
    "Ans\n",
    "In general, Python classes typically don't have built-in add() methods. However, you can define custom add() methods within a\n",
    "class to provide specific functionality related to adding objects of that class.\n",
    "\n",
    "'''\n",
    "class Point:\n",
    "    def __init__(self, x, y):\n",
    "        self.x = x\n",
    "        self.y = y\n",
    "\n",
    "    def add(self, other):\n",
    "        \"\"\"Adds the coordinates of another Point object to this point.\n",
    "        \"\"\"\n",
    "        return Point(self.x + other.x, self.y + other.y)\n",
    "\n",
    "# Create two Point objects\n",
    "point1 = Point(5, 3)\n",
    "point2 = Point(2, 4)\n",
    "\n",
    "# Add the points using the add() method\n",
    "result_point = point1.add(point2)\n",
    "\n",
    "# Print the coordinates of the new point\n",
    "print(f\"The sum of the points: ({result_point.x}, {result_point.y})\")\n",
    "\n"
   ]
  },
  {
   "cell_type": "markdown",
   "id": "6c9d7dce",
   "metadata": {},
   "source": [
    "# 64.\tWhat is the purpose of the __getitem__() method in Python? Provide an example."
   ]
  },
  {
   "cell_type": "code",
   "execution_count": 73,
   "id": "a18820b5",
   "metadata": {},
   "outputs": [
    {
     "name": "stdout",
     "output_type": "stream",
     "text": [
      "First element: Fruit\n",
      "Sliced list: ['Cake', 'Vegetables', 'Sweets', 'Bakery']\n"
     ]
    }
   ],
   "source": [
    "'''\n",
    "Ans\n",
    "The __getitem__() method in Python is a special method that allows you to access elements of a collection using indexing \n",
    "notation []. Provides a way to implement custom logic for accessing elements within a class\n",
    "\n",
    "'''\n",
    "class StringList:\n",
    "    def __init__(self, data):\n",
    "        self.data = data\n",
    "\n",
    "    def __getitem__(self, index):\n",
    "        if isinstance(index, int):\n",
    "            return self.data[index]\n",
    "        elif isinstance(index, slice):\n",
    "            return self.data[index]\n",
    "        else:\n",
    "            # Raise an error for unsupported index types\n",
    "            raise IndexError(\"Invalid index type\")\n",
    "\n",
    "\n",
    "string_list = StringList([\"Fruit\", \"Cake\", \"Vegetables\", \"Sweets\", \"Bakery\"])\n",
    "\n",
    "\n",
    "first_element = string_list[0]  # Accesses \"Fruit\"\n",
    "second_element = string_list[1]  # Accesses \"Cake\"\n",
    "\n",
    "# Access elements using slicing\n",
    "sliced_list = string_list[1:5]  # Accesses \"Cake\", \"Vegetables\", \"Sweets\", \"Bakery\"\n",
    "\n",
    "print(f\"First element: {first_element}\")\n",
    "print(f\"Sliced list: {sliced_list}\")\n",
    "\n"
   ]
  },
  {
   "cell_type": "markdown",
   "id": "8f0fffa3",
   "metadata": {},
   "source": [
    "# 65.\tExplain the usage of the __iter__() and __next__() methods in Python. Provide an example using iterators."
   ]
  },
  {
   "cell_type": "code",
   "execution_count": 74,
   "id": "761d4109",
   "metadata": {},
   "outputs": [
    {
     "name": "stdout",
     "output_type": "stream",
     "text": [
      "1\n",
      "2\n",
      "3\n",
      "4\n",
      "5\n"
     ]
    }
   ],
   "source": [
    "'''\n",
    "Ans\n",
    "The iter() and next() methods in Python are used to work with iterators. Iterators are objects that represent a sequence of \n",
    "items and allow you to access them one at a time. The iter() method takes an iterable object (like a list, tuple, string, or \n",
    "any custom class implementing the iterator protocol) and returns an iterator object. The next() method is called on an \n",
    "iterator object to get the next item in the sequence.\n",
    "\n",
    "'''\n",
    "\n",
    "class NumberList:\n",
    "    def __init__(self, numbers):\n",
    "        self.numbers = numbers\n",
    "        self.index = 0\n",
    "\n",
    "    def __iter__(self):\n",
    "        return self\n",
    "\n",
    "    def __next__(self):\n",
    "        if self.index < len(self.numbers):\n",
    "            value = self.numbers[self.index]\n",
    "            self.index += 1\n",
    "            return value\n",
    "        else:\n",
    "            raise StopIteration\n",
    "\n",
    "# Create a numeric list\n",
    "number_list = NumberList([1, 2, 3, 4, 5])\n",
    "\n",
    "# Using a for loop with the iterator (preferred method)\n",
    "for number in number_list:\n",
    "    print(number)\n",
    "\n",
    "# Using next() method explicitly\n",
    "iterator = iter(number_list)\n",
    "while True:\n",
    "    try:\n",
    "        number = next(iterator)\n",
    "        print(number)\n",
    "    except StopIteration:\n",
    "        break\n"
   ]
  },
  {
   "cell_type": "markdown",
   "id": "ba4f1f37",
   "metadata": {},
   "source": [
    "# 66.\tWhat is the purpose of a getter method in Python? Provide an example demonstrating the use of a getter method using property decorators."
   ]
  },
  {
   "cell_type": "code",
   "execution_count": 75,
   "id": "2cf1db6c",
   "metadata": {},
   "outputs": [
    {
     "name": "stdout",
     "output_type": "stream",
     "text": [
      "Person's name: Chander Parkash\n",
      "Person's age after modification: 37\n"
     ]
    }
   ],
   "source": [
    "'''\n",
    "Ans\n",
    "Getter methods in Python are functions within a class that are specifically designed to retrieve the value of an attribute. \n",
    "They are often used in conjunction with property decorators to control access to an attribute and potentially add logic around \n",
    "accessing or modifying its value.\n",
    "\n",
    "'''\n",
    "\n",
    "class Person:\n",
    "    def __init__(self, name, age):\n",
    "        self._name = name  # Use a leading underscore to indicate private attribute\n",
    "        self._age = age\n",
    "\n",
    "    @property\n",
    "    def name(self):\n",
    "        \"\"\"Getter method for the name attribute.\"\"\"\n",
    "        return self._name\n",
    "\n",
    "    @property\n",
    "    def age(self):\n",
    "        \"\"\"Getter method for the age attribute, adding validation.\"\"\"\n",
    "        if self._age < 0:\n",
    "            raise ValueError(\"Age cannot be negative\")\n",
    "        return self._age\n",
    "\n",
    "# Create a object\n",
    "person = Person(\"Chander Parkash\", 36)\n",
    "\n",
    "# Access the name attribute using the getter method\n",
    "print(f\"Person's name: {person.name}\")\n",
    "\n",
    "person._age = 37  # We can still modify the private attribute directly (not recommended)\n",
    "print(f\"Person's age after modification: {person.age}\")\n"
   ]
  },
  {
   "cell_type": "markdown",
   "id": "412d38bd",
   "metadata": {},
   "source": [
    "# 67.\tExplain the role of setter methods in Python. Demonstrate how to use a setter method to modify a class attribute using property decorators."
   ]
  },
  {
   "cell_type": "code",
   "execution_count": 76,
   "id": "a7247bca",
   "metadata": {},
   "outputs": [
    {
     "name": "stdout",
     "output_type": "stream",
     "text": [
      "Person's name: Chander\n",
      "Error setting age: Age cannot be negative\n",
      "Person's age after modification: 37\n"
     ]
    }
   ],
   "source": [
    "'''\n",
    "Ans\n",
    "In Python, setter methods are functions within a class specifically designed to modify the value of an attribute. They are \n",
    "often used in conjunction with property decorators to control access to an attribute and potentially add logic around setting \n",
    "its value.\n",
    "\n",
    "'''\n",
    "\n",
    "class Person1:\n",
    "    def __init__(self, name, age):\n",
    "        self._name = name  # Use a leading underscore to indicate private attribute\n",
    "        self._age = age\n",
    "\n",
    "    @property\n",
    "    def name(self):\n",
    "        \"\"\"Getter method for the name attribute.\"\"\"\n",
    "        return self._name\n",
    "\n",
    "    @property\n",
    "    def age(self):\n",
    "        \"\"\"Getter method for the age attribute.\"\"\"\n",
    "        return self._age\n",
    "\n",
    "    @age.setter  # Set the setter for the age property\n",
    "    def age(self, new_age):\n",
    "        \"\"\"Setter method for the age attribute, adding validation.\"\"\"\n",
    "        if new_age < 0:\n",
    "            raise ValueError(\"Age cannot be negative\")\n",
    "        self._age = new_age\n",
    "\n",
    "# Create a Person object\n",
    "persn = Person1(\"Chander\", 36)\n",
    "\n",
    "# Access the name attribute using the getter method (appears like a regular attribute)\n",
    "print(f\"Person's name: {persn.name}\")\n",
    "\n",
    "# Access and modify the age attribute using the setter method (with validation)\n",
    "try:\n",
    "    persn.age = -10  # This would raise a ValueError\n",
    "except ValueError as e:\n",
    "    print(f\"Error setting age: {e}\")\n",
    "\n",
    "persn.age = 37  # Valid age, setter validation happens here\n",
    "print(f\"Person's age after modification: {persn.age}\")\n"
   ]
  },
  {
   "cell_type": "markdown",
   "id": "cf8a3ca7",
   "metadata": {},
   "source": [
    "# 68.\tWhat is the purpose of the @property decorator in Python? Provide an example illustrating its usage."
   ]
  },
  {
   "cell_type": "code",
   "execution_count": 77,
   "id": "1bdfa846",
   "metadata": {},
   "outputs": [
    {
     "name": "stdout",
     "output_type": "stream",
     "text": [
      "Person's name in uppercase: CHANDER PARKASH\n"
     ]
    }
   ],
   "source": [
    "'''\n",
    "Ans\n",
    "The @property decorator in Python is used to create properties. Properties are a way to define attributes in a class that \n",
    "behave like regular attributes but provide more control over their access and potential modification.\n",
    "Purpose of the @Property decorator are:-\n",
    "Data Encapsulation: This helps achieve data encapsulation by controlling access to the attribute's value and potentially \n",
    "adding logic around accessing or modifying it.\n",
    "Validation or Logic: This allows you to ensure retrieved or assigned values meet certain criteria or perform actions \n",
    "before exposing or modifying the attribute's value.\n",
    "Read-Only Attributes: This enforces that the attribute's value can only be set during initialization or through specific \n",
    "internal methods.\n",
    "\n",
    "'''\n",
    "\n",
    "class Person3:\n",
    "    def __init__(self, name):\n",
    "        self._name = name  # Use a leading underscore to indicate private attribute\n",
    "\n",
    "    @property\n",
    "    def name(self):\n",
    "        return self._name.upper()  # Example: Return the name in uppercase\n",
    "\n",
    "# Create a Person object\n",
    "prsn = Person3(\"Chander Parkash\")\n",
    "\n",
    "# Access the name attribute using the getter method (appears like a regular attribute)\n",
    "print(f\"Person's name in uppercase: {prsn.name}\")\n"
   ]
  },
  {
   "cell_type": "markdown",
   "id": "298717e4",
   "metadata": {},
   "source": [
    "# 69.\tExplain the use of the @deleter decorator in Python property decorators. Provide a code example demonstrating its application."
   ]
  },
  {
   "cell_type": "code",
   "execution_count": 79,
   "id": "c705ec1a",
   "metadata": {},
   "outputs": [
    {
     "data": {
      "text/plain": [
       "'it is deficult to understand so I am not able to answer this question'"
      ]
     },
     "execution_count": 79,
     "metadata": {},
     "output_type": "execute_result"
    }
   ],
   "source": [
    "'''it is deficult to understand so I am not able to answer this question'''"
   ]
  },
  {
   "cell_type": "markdown",
   "id": "538d5ed6",
   "metadata": {},
   "source": [
    "# 70.\tHow does encapsulation relate to property decorators in Python? Provide an example showcasing encapsulation using property decorators."
   ]
  },
  {
   "cell_type": "code",
   "execution_count": 78,
   "id": "1e2eaebd",
   "metadata": {},
   "outputs": [
    {
     "name": "stdout",
     "output_type": "stream",
     "text": [
      "Circle radius: 5\n",
      "Error setting radius: Radius must be a positive number\n",
      "Circle area: 314.0\n"
     ]
    }
   ],
   "source": [
    "'''\n",
    "Ans\n",
    "Encapsulation and property decorators in Python work together to achieve better data protection and control within a class. By \n",
    "using property decorators, you can create attributes that appear like regular attributes when accessed from outside the class. \n",
    "However, behind the scenes, you can define logic within the getter, setter, or deleter methods to control how the attribute is \n",
    "accessed or modified\n",
    " \n",
    "'''\n",
    "\n",
    "class Circle:\n",
    "    def __init__(self, radius):\n",
    "        self._radius = radius  # Private attribute with leading underscore\n",
    "\n",
    "    @property\n",
    "    def radius(self):\n",
    "        \"\"\"Getter method for the radius attribute.\"\"\"\n",
    "        return self._radius\n",
    "\n",
    "    @radius.setter\n",
    "    def radius(self, new_radius):\n",
    "        \"\"\"Setter method for the radius attribute, with validation.\"\"\"\n",
    "        if new_radius <= 0:\n",
    "            raise ValueError(\"Radius must be a positive number\")\n",
    "        self._radius = new_radius\n",
    "\n",
    "    @property\n",
    "    def area(self):\n",
    "        \"\"\"Getter method to calculate the circle's area.\"\"\"\n",
    "        return 3.14 * self.radius * self.radius\n",
    "\n",
    "# Create a Circle object\n",
    "circle = Circle(5)\n",
    "\n",
    "# Access the radius attribute using the getter method (appears like a regular attribute)\n",
    "print(f\"Circle radius: {circle.radius}\")\n",
    "\n",
    "# Try setting the radius with an invalid value (validation in setter)\n",
    "try:\n",
    "    circle.radius = -2\n",
    "except ValueError as e:\n",
    "    print(f\"Error setting radius: {e}\")\n",
    "\n",
    "# Set the radius with a valid value\n",
    "circle.radius = 10\n",
    "\n",
    "# Access the area attribute using another getter method (no setter for area)\n",
    "print(f\"Circle area: {circle.area}\")\n"
   ]
  }
 ],
 "metadata": {
  "kernelspec": {
   "display_name": "Python 3 (ipykernel)",
   "language": "python",
   "name": "python3"
  },
  "language_info": {
   "codemirror_mode": {
    "name": "ipython",
    "version": 3
   },
   "file_extension": ".py",
   "mimetype": "text/x-python",
   "name": "python",
   "nbconvert_exporter": "python",
   "pygments_lexer": "ipython3",
   "version": "3.11.5"
  }
 },
 "nbformat": 4,
 "nbformat_minor": 5
}
